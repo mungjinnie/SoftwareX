{
 "cells": [
  {
   "cell_type": "code",
   "execution_count": 13,
   "id": "8f7c7efa",
   "metadata": {},
   "outputs": [
    {
     "name": "stdout",
     "output_type": "stream",
     "text": [
      "load checkpoint from local path: ./work_dirs/attribute_mask_rcnn_swin_b_3x_/epoch_12.pth\n"
     ]
    }
   ],
   "source": [
    "config_file = './configs/attribute_mask_rcnn/attribute_mask_rcnn_swin_b_3x.py'\n",
    "checkpoint_file = './work_dirs/attribute_mask_rcnn_swin_b_3x_/epoch_12.pth'\n",
    "model = init_detector(config_file, checkpoint_file, device='cuda:0')"
   ]
  },
  {
   "cell_type": "code",
   "execution_count": 2,
   "id": "41d0563e",
   "metadata": {},
   "outputs": [
    {
     "name": "stderr",
     "output_type": "stream",
     "text": [
      "/home/mung/anaconda3/envs/ququ/lib/python3.8/site-packages/mmcv/__init__.py:20: UserWarning: On January 1, 2023, MMCV will release v2.0.0, in which it will remove components related to the training process and add a data transformation module. In addition, it will rename the package names mmcv to mmcv-lite and mmcv-full to mmcv. See https://github.com/open-mmlab/mmcv/blob/master/docs/en/compatibility.md for more details.\n",
      "  warnings.warn(\n"
     ]
    }
   ],
   "source": [
    "from mmdet.apis import (async_inference_detector, inference_detector,init_detector) #show_result_pyplot)\n"
   ]
  },
  {
   "cell_type": "code",
   "execution_count": 7,
   "id": "4366b0b3",
   "metadata": {},
   "outputs": [],
   "source": [
    "url = \"https://www.google.com/url?sa=i&url=https%3A%2F%2Fwww.vogue.co.kr%2F2021%2F11%2F03%2F%25EB%259F%25B0%25EC%259B%25A8%25EC%259D%25B4-%25EA%25B7%25B8-%25EC%25A4%2591%25EC%258B%25AC%25EC%2597%2590-%25EC%259E%2588%25EB%258A%2594-%25ED%2595%259C%25EA%25B5%25AD-%25EB%25AA%25A8%25EB%258D%25B8%25EB%2593%25A4%2F&psig=AOvVaw1hZ0TXhLOHEJFRfQF2GBXb&ust=1684978223881000&source=images&cd=vfe&ved=0CBEQjRxqFwoTCPDtjpbnjP8CFQAAAAAdAAAAABAD\"\n",
    "import urllib.request\n"
   ]
  },
  {
   "cell_type": "code",
   "execution_count": 9,
   "id": "83ebbfc4",
   "metadata": {},
   "outputs": [
    {
     "data": {
      "text/plain": [
       "('./image_folder/999.jpg', <http.client.HTTPMessage at 0x7ff498850b80>)"
      ]
     },
     "execution_count": 9,
     "metadata": {},
     "output_type": "execute_result"
    }
   ],
   "source": [
    "path = \"./image_folder/\"\n",
    "image_name = 999\n",
    "urllib.request.urlretrieve(url, \"{}{}.jpg\".format(path, image_name))"
   ]
  },
  {
   "cell_type": "code",
   "execution_count": 10,
   "id": "535e5225",
   "metadata": {
    "scrolled": true
   },
   "outputs": [
    {
     "name": "stderr",
     "output_type": "stream",
     "text": [
      "/home/mung/anaconda3/envs/ququ/lib/python3.8/site-packages/mmdet/datasets/utils.py:66: UserWarning: \"ImageToTensor\" pipeline is replaced by \"DefaultFormatBundle\" for batch inference. It is recommended to manually replace it in the test data pipeline in your config file.\n",
      "  warnings.warn(\n"
     ]
    },
    {
     "ename": "AttributeError",
     "evalue": "'NoneType' object has no attribute 'shape'",
     "output_type": "error",
     "traceback": [
      "\u001b[0;31m---------------------------------------------------------------------------\u001b[0m",
      "\u001b[0;31mAttributeError\u001b[0m                            Traceback (most recent call last)",
      "Cell \u001b[0;32mIn[10], line 1\u001b[0m\n\u001b[0;32m----> 1\u001b[0m bbox_result, segm_result, attr_result \u001b[38;5;241m=\u001b[39m \u001b[43minference_detector\u001b[49m\u001b[43m(\u001b[49m\u001b[43mmodel\u001b[49m\u001b[43m,\u001b[49m\u001b[38;5;124;43m\"\u001b[39;49m\u001b[38;5;132;43;01m{}\u001b[39;49;00m\u001b[38;5;132;43;01m{}\u001b[39;49;00m\u001b[38;5;124;43m.jpg\u001b[39;49m\u001b[38;5;124;43m\"\u001b[39;49m\u001b[38;5;241;43m.\u001b[39;49m\u001b[43mformat\u001b[49m\u001b[43m(\u001b[49m\u001b[43mpath\u001b[49m\u001b[43m,\u001b[49m\u001b[43m \u001b[49m\u001b[43mimage_name\u001b[49m\u001b[43m)\u001b[49m\u001b[43m)\u001b[49m\n",
      "File \u001b[0;32m~/anaconda3/envs/ququ/lib/python3.8/site-packages/mmdet/apis/inference.py:139\u001b[0m, in \u001b[0;36minference_detector\u001b[0;34m(model, imgs)\u001b[0m\n\u001b[1;32m    137\u001b[0m         data \u001b[38;5;241m=\u001b[39m \u001b[38;5;28mdict\u001b[39m(img_info\u001b[38;5;241m=\u001b[39m\u001b[38;5;28mdict\u001b[39m(filename\u001b[38;5;241m=\u001b[39mimg), img_prefix\u001b[38;5;241m=\u001b[39m\u001b[38;5;28;01mNone\u001b[39;00m)\n\u001b[1;32m    138\u001b[0m     \u001b[38;5;66;03m# build the data pipeline\u001b[39;00m\n\u001b[0;32m--> 139\u001b[0m     data \u001b[38;5;241m=\u001b[39m \u001b[43mtest_pipeline\u001b[49m\u001b[43m(\u001b[49m\u001b[43mdata\u001b[49m\u001b[43m)\u001b[49m\n\u001b[1;32m    140\u001b[0m     datas\u001b[38;5;241m.\u001b[39mappend(data)\n\u001b[1;32m    142\u001b[0m data \u001b[38;5;241m=\u001b[39m collate(datas, samples_per_gpu\u001b[38;5;241m=\u001b[39m\u001b[38;5;28mlen\u001b[39m(imgs))\n",
      "File \u001b[0;32m~/anaconda3/envs/ququ/lib/python3.8/site-packages/mmdet/datasets/pipelines/compose.py:41\u001b[0m, in \u001b[0;36mCompose.__call__\u001b[0;34m(self, data)\u001b[0m\n\u001b[1;32m     31\u001b[0m \u001b[38;5;250m\u001b[39m\u001b[38;5;124;03m\"\"\"Call function to apply transforms sequentially.\u001b[39;00m\n\u001b[1;32m     32\u001b[0m \n\u001b[1;32m     33\u001b[0m \u001b[38;5;124;03mArgs:\u001b[39;00m\n\u001b[0;32m   (...)\u001b[0m\n\u001b[1;32m     37\u001b[0m \u001b[38;5;124;03m   dict: Transformed data.\u001b[39;00m\n\u001b[1;32m     38\u001b[0m \u001b[38;5;124;03m\"\"\"\u001b[39;00m\n\u001b[1;32m     40\u001b[0m \u001b[38;5;28;01mfor\u001b[39;00m t \u001b[38;5;129;01min\u001b[39;00m \u001b[38;5;28mself\u001b[39m\u001b[38;5;241m.\u001b[39mtransforms:\n\u001b[0;32m---> 41\u001b[0m     data \u001b[38;5;241m=\u001b[39m \u001b[43mt\u001b[49m\u001b[43m(\u001b[49m\u001b[43mdata\u001b[49m\u001b[43m)\u001b[49m\n\u001b[1;32m     42\u001b[0m     \u001b[38;5;28;01mif\u001b[39;00m data \u001b[38;5;129;01mis\u001b[39;00m \u001b[38;5;28;01mNone\u001b[39;00m:\n\u001b[1;32m     43\u001b[0m         \u001b[38;5;28;01mreturn\u001b[39;00m \u001b[38;5;28;01mNone\u001b[39;00m\n",
      "File \u001b[0;32m~/anaconda3/envs/ququ/lib/python3.8/site-packages/mmdet/datasets/pipelines/loading.py:76\u001b[0m, in \u001b[0;36mLoadImageFromFile.__call__\u001b[0;34m(self, results)\u001b[0m\n\u001b[1;32m     74\u001b[0m results[\u001b[38;5;124m'\u001b[39m\u001b[38;5;124mori_filename\u001b[39m\u001b[38;5;124m'\u001b[39m] \u001b[38;5;241m=\u001b[39m results[\u001b[38;5;124m'\u001b[39m\u001b[38;5;124mimg_info\u001b[39m\u001b[38;5;124m'\u001b[39m][\u001b[38;5;124m'\u001b[39m\u001b[38;5;124mfilename\u001b[39m\u001b[38;5;124m'\u001b[39m]\n\u001b[1;32m     75\u001b[0m results[\u001b[38;5;124m'\u001b[39m\u001b[38;5;124mimg\u001b[39m\u001b[38;5;124m'\u001b[39m] \u001b[38;5;241m=\u001b[39m img\n\u001b[0;32m---> 76\u001b[0m results[\u001b[38;5;124m'\u001b[39m\u001b[38;5;124mimg_shape\u001b[39m\u001b[38;5;124m'\u001b[39m] \u001b[38;5;241m=\u001b[39m \u001b[43mimg\u001b[49m\u001b[38;5;241;43m.\u001b[39;49m\u001b[43mshape\u001b[49m\n\u001b[1;32m     77\u001b[0m results[\u001b[38;5;124m'\u001b[39m\u001b[38;5;124mori_shape\u001b[39m\u001b[38;5;124m'\u001b[39m] \u001b[38;5;241m=\u001b[39m img\u001b[38;5;241m.\u001b[39mshape\n\u001b[1;32m     78\u001b[0m results[\u001b[38;5;124m'\u001b[39m\u001b[38;5;124mimg_fields\u001b[39m\u001b[38;5;124m'\u001b[39m] \u001b[38;5;241m=\u001b[39m [\u001b[38;5;124m'\u001b[39m\u001b[38;5;124mimg\u001b[39m\u001b[38;5;124m'\u001b[39m]\n",
      "\u001b[0;31mAttributeError\u001b[0m: 'NoneType' object has no attribute 'shape'"
     ]
    }
   ],
   "source": [
    "bbox_result, segm_result, attr_result = inference_detector(model,\"{}{}.jpg\".format(path, image_name))"
   ]
  },
  {
   "cell_type": "code",
   "execution_count": 12,
   "id": "394f2a2e",
   "metadata": {},
   "outputs": [],
   "source": [
    "import Projects"
   ]
  },
  {
   "cell_type": "code",
   "execution_count": null,
   "id": "af4a9364",
   "metadata": {},
   "outputs": [],
   "source": []
  }
 ],
 "metadata": {
  "kernelspec": {
   "display_name": "ququ",
   "language": "python",
   "name": "ququ"
  },
  "language_info": {
   "codemirror_mode": {
    "name": "ipython",
    "version": 3
   },
   "file_extension": ".py",
   "mimetype": "text/x-python",
   "name": "python",
   "nbconvert_exporter": "python",
   "pygments_lexer": "ipython3",
   "version": "3.8.16"
  }
 },
 "nbformat": 4,
 "nbformat_minor": 5
}
